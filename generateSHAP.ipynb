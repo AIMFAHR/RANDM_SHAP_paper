{
 "cells": [
  {
   "cell_type": "markdown",
   "id": "20a0b5f8-4050-4fc4-b9a0-a52613537f1d",
   "metadata": {},
   "source": [
    "# SHAP analysis of RANDM thermospheric density model\n",
    "This notebook is one companion piece to Bard, Murphy, Halford (2025): \"Elucidating the Grey Atmosphere: SHAP Value Analysis of a Random Forest Atmospheric Neutral Density Model\".\n",
    "\n",
    "## Part A: Generating SHAP Explanations\n",
    "\n",
    "Code for generating and saving SHAP explanations for the RANDM model is given here. Since this process takes a long time to execute, the saved SHAP explanations are hosted in `./SHAP_values/` . The other notebooks use these saved SHAP explanations in order to generate the figures/analysis.\n",
    "\n",
    "If you wish to recreate the SHAP values, it is recommended that you use a computer with many cores and set NJOBS to the highest number possible for parallel processing. The feature data required for the Explainer can be downloaded from https://zenodo.org/uploads/17201537 .\n",
    "\n",
    "#### Requirements\n",
    "- numpy\n",
    "- pandas\n",
    "- matplotlib\n",
    "- fasttreeshap\n",
    "- shap\n",
    "- mltdm\n",
    "\n",
    "#### References\n",
    "- SHAP paper (arxiv link)\n",
    "- saved SHAP explanations (`./SHAP_values/`)\n",
    "- Murphy+2025 (RANDM model paper): https://doi.org/10.1029/2024SW003928\n",
    "- MLTDM repository: https://github.com/kylermurphy/mltdm/"
   ]
  },
  {
   "cell_type": "code",
   "execution_count": 5,
   "id": "fbc5fa1b-e6fc-4afa-a390-c82e60aeb6c1",
   "metadata": {},
   "outputs": [],
   "source": [
    "NJOBS = 8 # change based on your computer"
   ]
  },
  {
   "cell_type": "code",
   "execution_count": 1,
   "id": "8ba8fde6-5620-43dc-ac87-99e3a053bc14",
   "metadata": {},
   "outputs": [],
   "source": [
    "import numpy as np\n",
    "import numpy.random as rand\n",
    "import pandas as pd\n",
    "import shap_analysis as shpa\n",
    "import time as pytime\n",
    "import matplotlib.pyplot as plt\n",
    "from matplotlib import gridspec"
   ]
  },
  {
   "cell_type": "code",
   "execution_count": 2,
   "id": "a63ccc0d-b54c-4db3-9057-d916173935fb",
   "metadata": {},
   "outputs": [],
   "source": [
    "import fasttreeshap as fts\n",
    "from fasttreeshap.plots import beeswarm, waterfall, bar\n",
    "import shap"
   ]
  },
  {
   "cell_type": "code",
   "execution_count": 3,
   "id": "51894258-0e28-4f47-b39c-9a5a0423485a",
   "metadata": {},
   "outputs": [],
   "source": [
    "import mltdm\n",
    "from mltdm.den_fx import fx_den"
   ]
  },
  {
   "cell_type": "code",
   "execution_count": null,
   "id": "9e930b6d-78bf-4436-8025-718fbcf1ebc0",
   "metadata": {},
   "outputs": [],
   "source": [
    "# assuming mltdm model has already been set up\n",
    "# if not, run:\n",
    "# from mltdm import den_fx\n",
    "# den_fx.setup()"
   ]
  },
  {
   "cell_type": "markdown",
   "id": "c1079f46-d56f-466f-bf44-da61593c9af1",
   "metadata": {},
   "source": [
    "### Utility functions"
   ]
  },
  {
   "cell_type": "code",
   "execution_count": 6,
   "id": "a362e883-397f-4298-b52d-78787f2247f4",
   "metadata": {},
   "outputs": [],
   "source": [
    "# hack to save and load minimal viable explanation, \n",
    "# since it takes a while to make\n",
    "def save_explanation(fname, expln):\n",
    "    # hack to avoid pickling and associated errors\n",
    "    dta = expln.data.astype(float)\n",
    "    np.savez(fname, values=expln.values, \n",
    "             base_values=expln.base_values, data=dta,\n",
    "             feature_names=expln.feature_names, \n",
    "             output_names=expln.output_names, compute_time=expln.compute_time)\n",
    "\n",
    "def load_explanation(fname):\n",
    "    dat_dict = np.load(fname)\n",
    "    return fts.Explanation(values = dat_dict[\"values\"], base_values=dat_dict[\"base_values\"], \n",
    "                           data=dat_dict[\"data\"], feature_names=dat_dict[\"feature_names\"], \n",
    "                           output_names=dat_dict[\"output_names\"], \n",
    "                           compute_time=dat_dict[\"compute_time\"])\n",
    "\n",
    "# hack to blend multiple explanations together\n",
    "def stack_expln(expln1, expln2):\n",
    "    return fts.Explanation(values = np.vstack([expln1.values, expln2.values]), \n",
    "                             base_values = np.vstack([expln1.base_values, expln2.base_values]), \n",
    "                             data = np.vstack([expln1.data, expln2.data]),\n",
    "                             feature_names=expln1.feature_names,\n",
    "                            )"
   ]
  },
  {
   "cell_type": "code",
   "execution_count": null,
   "id": "64e4c82d-f211-4dca-ac2e-b926b5ce309f",
   "metadata": {},
   "outputs": [],
   "source": [
    "# functions to load feature data from hardcoded file\n",
    "# Download file \"FI_GEO_RF_data.h5\" from Zenodo: https://zenodo.org/uploads/17201537\n",
    "\n",
    "# data columns used in best-performing Murphy RF model\n",
    "fgeo_col = ['1300_02', '43000_09', '85550_13', '94400_18', 'SYM_H index', \n",
    "            'AE', 'SatLat', 'cos_SatMagLT', 'sin_SatMagLT']\n",
    "\n",
    "def _load_datafile(option: str = \"test_d\", path='./'):\n",
    "    \"\"\"\n",
    "    Loads forest training/test data from CB's checkpointing of\n",
    "    the train/test split in KM's Notebook (https://github.com/kylermurphy/mltdm/blob/main/Notebooks/RF_model.ipynb)\n",
    "\n",
    "    option : str\n",
    "        1. \"test_d\" : Grace B test data\n",
    "        2. \"train_d\" : Grace B training data\n",
    "        3. \"oos_d\" : Grace A\n",
    "        4. \"oos2_d\" : CHAMP\n",
    "\n",
    "    \"\"\"\n",
    "\n",
    "    return pd.read_hdf(path+\"FI_GEO_RF_data.h5\", option)\n",
    "\n",
    "\n",
    "def load_data(storm: bool = None, option: str = \"test_d\", all_cols: bool = False, path='./'):\n",
    "    \"\"\"\n",
    "    Loads pandas data array from file in `load_datafile`\n",
    "\n",
    "    `storm` : bool | None\n",
    "        1. None : load full data\n",
    "        2. True : load storm data (\"storm\" == 1)\n",
    "        3. False : load nonstorm data (\"storm\" == -1)\n",
    "\n",
    "    option : str\n",
    "        1. \"test_d\" : Grace B test data\n",
    "        2. \"train_d\" : Grace B training data\n",
    "        3. \"oos_d\" : Grace A\n",
    "        4. \"oos2_d\" : CHAMP\n",
    "\n",
    "    all_cols : bool\n",
    "        If True, load all data columns\n",
    "        If False, load just fgeo_columns used in best RF model\n",
    "\n",
    "    path : str\n",
    "        path to find FI_GEO_RF_data.h5 datafile, by default './'\n",
    "    \"\"\"\n",
    "\n",
    "    dat = _load_datafile(option, path=path)\n",
    "\n",
    "    if storm is not None:\n",
    "        dat = dat[dat['storm'] == ((storm == True) - (storm == False))]\n",
    "\n",
    "    return dat if all_cols else dat[fgeo_col]"
   ]
  },
  {
   "cell_type": "code",
   "execution_count": 9,
   "id": "5940c6cf-9cfb-43a0-b223-7e6bf2cdc571",
   "metadata": {},
   "outputs": [],
   "source": [
    "NUM_SAMP = 2000\n",
    "def sample(gen, df, num_samp=2000):\n",
    "    \"\"\"\n",
    "    Samples df with num_samp points.\n",
    "\n",
    "    gen: np.random.rand instance\n",
    "        Used to generate random indices for sample selection\n",
    "    df: pandas.dataframe\n",
    "        data to sample\n",
    "    num_samp : int\n",
    "        number of points in sample\n",
    "    \"\"\"\n",
    "    num_samp = min(num_samp, df.shape[0])\n",
    "    ids = gen.choice(range(df.shape[0]), size = num_samp, replace=False)\n",
    "    return df.iloc[ids]"
   ]
  },
  {
   "cell_type": "markdown",
   "id": "9529c051-457c-4670-909b-a8c2bb7a88f1",
   "metadata": {},
   "source": [
    "### Setup"
   ]
  },
  {
   "cell_type": "code",
   "execution_count": null,
   "id": "566b223b-c492-4899-9cc2-c42e4ba0869a",
   "metadata": {},
   "outputs": [],
   "source": [
    "# assuming mltdm model has already been set up\n",
    "# if not, run:\n",
    "# from mltdm import den_fx\n",
    "# den_fx.setup()"
   ]
  },
  {
   "cell_type": "code",
   "execution_count": 10,
   "id": "d80e6499-c5fd-42cd-972a-ea03a8c15a71",
   "metadata": {},
   "outputs": [
    {
     "name": "stdout",
     "output_type": "stream",
     "text": [
      "Loading fx_den_bz2.skops, this will take a few minutes.\n"
     ]
    }
   ],
   "source": [
    "mltdm_wrapper = fx_den(dropAE=False)\n",
    "rf = mltdm_wrapper.rfmod # this is RANDM, as created in Murphy+25"
   ]
  },
  {
   "cell_type": "code",
   "execution_count": 18,
   "id": "1d9c474e-4ea0-42c6-b31e-582a4487f44d",
   "metadata": {},
   "outputs": [
    {
     "data": {
      "text/html": [
       "<style>#sk-container-id-1 {\n",
       "  /* Definition of color scheme common for light and dark mode */\n",
       "  --sklearn-color-text: black;\n",
       "  --sklearn-color-line: gray;\n",
       "  /* Definition of color scheme for unfitted estimators */\n",
       "  --sklearn-color-unfitted-level-0: #fff5e6;\n",
       "  --sklearn-color-unfitted-level-1: #f6e4d2;\n",
       "  --sklearn-color-unfitted-level-2: #ffe0b3;\n",
       "  --sklearn-color-unfitted-level-3: chocolate;\n",
       "  /* Definition of color scheme for fitted estimators */\n",
       "  --sklearn-color-fitted-level-0: #f0f8ff;\n",
       "  --sklearn-color-fitted-level-1: #d4ebff;\n",
       "  --sklearn-color-fitted-level-2: #b3dbfd;\n",
       "  --sklearn-color-fitted-level-3: cornflowerblue;\n",
       "\n",
       "  /* Specific color for light theme */\n",
       "  --sklearn-color-text-on-default-background: var(--sg-text-color, var(--theme-code-foreground, var(--jp-content-font-color1, black)));\n",
       "  --sklearn-color-background: var(--sg-background-color, var(--theme-background, var(--jp-layout-color0, white)));\n",
       "  --sklearn-color-border-box: var(--sg-text-color, var(--theme-code-foreground, var(--jp-content-font-color1, black)));\n",
       "  --sklearn-color-icon: #696969;\n",
       "\n",
       "  @media (prefers-color-scheme: dark) {\n",
       "    /* Redefinition of color scheme for dark theme */\n",
       "    --sklearn-color-text-on-default-background: var(--sg-text-color, var(--theme-code-foreground, var(--jp-content-font-color1, white)));\n",
       "    --sklearn-color-background: var(--sg-background-color, var(--theme-background, var(--jp-layout-color0, #111)));\n",
       "    --sklearn-color-border-box: var(--sg-text-color, var(--theme-code-foreground, var(--jp-content-font-color1, white)));\n",
       "    --sklearn-color-icon: #878787;\n",
       "  }\n",
       "}\n",
       "\n",
       "#sk-container-id-1 {\n",
       "  color: var(--sklearn-color-text);\n",
       "}\n",
       "\n",
       "#sk-container-id-1 pre {\n",
       "  padding: 0;\n",
       "}\n",
       "\n",
       "#sk-container-id-1 input.sk-hidden--visually {\n",
       "  border: 0;\n",
       "  clip: rect(1px 1px 1px 1px);\n",
       "  clip: rect(1px, 1px, 1px, 1px);\n",
       "  height: 1px;\n",
       "  margin: -1px;\n",
       "  overflow: hidden;\n",
       "  padding: 0;\n",
       "  position: absolute;\n",
       "  width: 1px;\n",
       "}\n",
       "\n",
       "#sk-container-id-1 div.sk-dashed-wrapped {\n",
       "  border: 1px dashed var(--sklearn-color-line);\n",
       "  margin: 0 0.4em 0.5em 0.4em;\n",
       "  box-sizing: border-box;\n",
       "  padding-bottom: 0.4em;\n",
       "  background-color: var(--sklearn-color-background);\n",
       "}\n",
       "\n",
       "#sk-container-id-1 div.sk-container {\n",
       "  /* jupyter's `normalize.less` sets `[hidden] { display: none; }`\n",
       "     but bootstrap.min.css set `[hidden] { display: none !important; }`\n",
       "     so we also need the `!important` here to be able to override the\n",
       "     default hidden behavior on the sphinx rendered scikit-learn.org.\n",
       "     See: https://github.com/scikit-learn/scikit-learn/issues/21755 */\n",
       "  display: inline-block !important;\n",
       "  position: relative;\n",
       "}\n",
       "\n",
       "#sk-container-id-1 div.sk-text-repr-fallback {\n",
       "  display: none;\n",
       "}\n",
       "\n",
       "div.sk-parallel-item,\n",
       "div.sk-serial,\n",
       "div.sk-item {\n",
       "  /* draw centered vertical line to link estimators */\n",
       "  background-image: linear-gradient(var(--sklearn-color-text-on-default-background), var(--sklearn-color-text-on-default-background));\n",
       "  background-size: 2px 100%;\n",
       "  background-repeat: no-repeat;\n",
       "  background-position: center center;\n",
       "}\n",
       "\n",
       "/* Parallel-specific style estimator block */\n",
       "\n",
       "#sk-container-id-1 div.sk-parallel-item::after {\n",
       "  content: \"\";\n",
       "  width: 100%;\n",
       "  border-bottom: 2px solid var(--sklearn-color-text-on-default-background);\n",
       "  flex-grow: 1;\n",
       "}\n",
       "\n",
       "#sk-container-id-1 div.sk-parallel {\n",
       "  display: flex;\n",
       "  align-items: stretch;\n",
       "  justify-content: center;\n",
       "  background-color: var(--sklearn-color-background);\n",
       "  position: relative;\n",
       "}\n",
       "\n",
       "#sk-container-id-1 div.sk-parallel-item {\n",
       "  display: flex;\n",
       "  flex-direction: column;\n",
       "}\n",
       "\n",
       "#sk-container-id-1 div.sk-parallel-item:first-child::after {\n",
       "  align-self: flex-end;\n",
       "  width: 50%;\n",
       "}\n",
       "\n",
       "#sk-container-id-1 div.sk-parallel-item:last-child::after {\n",
       "  align-self: flex-start;\n",
       "  width: 50%;\n",
       "}\n",
       "\n",
       "#sk-container-id-1 div.sk-parallel-item:only-child::after {\n",
       "  width: 0;\n",
       "}\n",
       "\n",
       "/* Serial-specific style estimator block */\n",
       "\n",
       "#sk-container-id-1 div.sk-serial {\n",
       "  display: flex;\n",
       "  flex-direction: column;\n",
       "  align-items: center;\n",
       "  background-color: var(--sklearn-color-background);\n",
       "  padding-right: 1em;\n",
       "  padding-left: 1em;\n",
       "}\n",
       "\n",
       "\n",
       "/* Toggleable style: style used for estimator/Pipeline/ColumnTransformer box that is\n",
       "clickable and can be expanded/collapsed.\n",
       "- Pipeline and ColumnTransformer use this feature and define the default style\n",
       "- Estimators will overwrite some part of the style using the `sk-estimator` class\n",
       "*/\n",
       "\n",
       "/* Pipeline and ColumnTransformer style (default) */\n",
       "\n",
       "#sk-container-id-1 div.sk-toggleable {\n",
       "  /* Default theme specific background. It is overwritten whether we have a\n",
       "  specific estimator or a Pipeline/ColumnTransformer */\n",
       "  background-color: var(--sklearn-color-background);\n",
       "}\n",
       "\n",
       "/* Toggleable label */\n",
       "#sk-container-id-1 label.sk-toggleable__label {\n",
       "  cursor: pointer;\n",
       "  display: block;\n",
       "  width: 100%;\n",
       "  margin-bottom: 0;\n",
       "  padding: 0.5em;\n",
       "  box-sizing: border-box;\n",
       "  text-align: center;\n",
       "}\n",
       "\n",
       "#sk-container-id-1 label.sk-toggleable__label-arrow:before {\n",
       "  /* Arrow on the left of the label */\n",
       "  content: \"▸\";\n",
       "  float: left;\n",
       "  margin-right: 0.25em;\n",
       "  color: var(--sklearn-color-icon);\n",
       "}\n",
       "\n",
       "#sk-container-id-1 label.sk-toggleable__label-arrow:hover:before {\n",
       "  color: var(--sklearn-color-text);\n",
       "}\n",
       "\n",
       "/* Toggleable content - dropdown */\n",
       "\n",
       "#sk-container-id-1 div.sk-toggleable__content {\n",
       "  max-height: 0;\n",
       "  max-width: 0;\n",
       "  overflow: hidden;\n",
       "  text-align: left;\n",
       "  /* unfitted */\n",
       "  background-color: var(--sklearn-color-unfitted-level-0);\n",
       "}\n",
       "\n",
       "#sk-container-id-1 div.sk-toggleable__content.fitted {\n",
       "  /* fitted */\n",
       "  background-color: var(--sklearn-color-fitted-level-0);\n",
       "}\n",
       "\n",
       "#sk-container-id-1 div.sk-toggleable__content pre {\n",
       "  margin: 0.2em;\n",
       "  border-radius: 0.25em;\n",
       "  color: var(--sklearn-color-text);\n",
       "  /* unfitted */\n",
       "  background-color: var(--sklearn-color-unfitted-level-0);\n",
       "}\n",
       "\n",
       "#sk-container-id-1 div.sk-toggleable__content.fitted pre {\n",
       "  /* unfitted */\n",
       "  background-color: var(--sklearn-color-fitted-level-0);\n",
       "}\n",
       "\n",
       "#sk-container-id-1 input.sk-toggleable__control:checked~div.sk-toggleable__content {\n",
       "  /* Expand drop-down */\n",
       "  max-height: 200px;\n",
       "  max-width: 100%;\n",
       "  overflow: auto;\n",
       "}\n",
       "\n",
       "#sk-container-id-1 input.sk-toggleable__control:checked~label.sk-toggleable__label-arrow:before {\n",
       "  content: \"▾\";\n",
       "}\n",
       "\n",
       "/* Pipeline/ColumnTransformer-specific style */\n",
       "\n",
       "#sk-container-id-1 div.sk-label input.sk-toggleable__control:checked~label.sk-toggleable__label {\n",
       "  color: var(--sklearn-color-text);\n",
       "  background-color: var(--sklearn-color-unfitted-level-2);\n",
       "}\n",
       "\n",
       "#sk-container-id-1 div.sk-label.fitted input.sk-toggleable__control:checked~label.sk-toggleable__label {\n",
       "  background-color: var(--sklearn-color-fitted-level-2);\n",
       "}\n",
       "\n",
       "/* Estimator-specific style */\n",
       "\n",
       "/* Colorize estimator box */\n",
       "#sk-container-id-1 div.sk-estimator input.sk-toggleable__control:checked~label.sk-toggleable__label {\n",
       "  /* unfitted */\n",
       "  background-color: var(--sklearn-color-unfitted-level-2);\n",
       "}\n",
       "\n",
       "#sk-container-id-1 div.sk-estimator.fitted input.sk-toggleable__control:checked~label.sk-toggleable__label {\n",
       "  /* fitted */\n",
       "  background-color: var(--sklearn-color-fitted-level-2);\n",
       "}\n",
       "\n",
       "#sk-container-id-1 div.sk-label label.sk-toggleable__label,\n",
       "#sk-container-id-1 div.sk-label label {\n",
       "  /* The background is the default theme color */\n",
       "  color: var(--sklearn-color-text-on-default-background);\n",
       "}\n",
       "\n",
       "/* On hover, darken the color of the background */\n",
       "#sk-container-id-1 div.sk-label:hover label.sk-toggleable__label {\n",
       "  color: var(--sklearn-color-text);\n",
       "  background-color: var(--sklearn-color-unfitted-level-2);\n",
       "}\n",
       "\n",
       "/* Label box, darken color on hover, fitted */\n",
       "#sk-container-id-1 div.sk-label.fitted:hover label.sk-toggleable__label.fitted {\n",
       "  color: var(--sklearn-color-text);\n",
       "  background-color: var(--sklearn-color-fitted-level-2);\n",
       "}\n",
       "\n",
       "/* Estimator label */\n",
       "\n",
       "#sk-container-id-1 div.sk-label label {\n",
       "  font-family: monospace;\n",
       "  font-weight: bold;\n",
       "  display: inline-block;\n",
       "  line-height: 1.2em;\n",
       "}\n",
       "\n",
       "#sk-container-id-1 div.sk-label-container {\n",
       "  text-align: center;\n",
       "}\n",
       "\n",
       "/* Estimator-specific */\n",
       "#sk-container-id-1 div.sk-estimator {\n",
       "  font-family: monospace;\n",
       "  border: 1px dotted var(--sklearn-color-border-box);\n",
       "  border-radius: 0.25em;\n",
       "  box-sizing: border-box;\n",
       "  margin-bottom: 0.5em;\n",
       "  /* unfitted */\n",
       "  background-color: var(--sklearn-color-unfitted-level-0);\n",
       "}\n",
       "\n",
       "#sk-container-id-1 div.sk-estimator.fitted {\n",
       "  /* fitted */\n",
       "  background-color: var(--sklearn-color-fitted-level-0);\n",
       "}\n",
       "\n",
       "/* on hover */\n",
       "#sk-container-id-1 div.sk-estimator:hover {\n",
       "  /* unfitted */\n",
       "  background-color: var(--sklearn-color-unfitted-level-2);\n",
       "}\n",
       "\n",
       "#sk-container-id-1 div.sk-estimator.fitted:hover {\n",
       "  /* fitted */\n",
       "  background-color: var(--sklearn-color-fitted-level-2);\n",
       "}\n",
       "\n",
       "/* Specification for estimator info (e.g. \"i\" and \"?\") */\n",
       "\n",
       "/* Common style for \"i\" and \"?\" */\n",
       "\n",
       ".sk-estimator-doc-link,\n",
       "a:link.sk-estimator-doc-link,\n",
       "a:visited.sk-estimator-doc-link {\n",
       "  float: right;\n",
       "  font-size: smaller;\n",
       "  line-height: 1em;\n",
       "  font-family: monospace;\n",
       "  background-color: var(--sklearn-color-background);\n",
       "  border-radius: 1em;\n",
       "  height: 1em;\n",
       "  width: 1em;\n",
       "  text-decoration: none !important;\n",
       "  margin-left: 1ex;\n",
       "  /* unfitted */\n",
       "  border: var(--sklearn-color-unfitted-level-1) 1pt solid;\n",
       "  color: var(--sklearn-color-unfitted-level-1);\n",
       "}\n",
       "\n",
       ".sk-estimator-doc-link.fitted,\n",
       "a:link.sk-estimator-doc-link.fitted,\n",
       "a:visited.sk-estimator-doc-link.fitted {\n",
       "  /* fitted */\n",
       "  border: var(--sklearn-color-fitted-level-1) 1pt solid;\n",
       "  color: var(--sklearn-color-fitted-level-1);\n",
       "}\n",
       "\n",
       "/* On hover */\n",
       "div.sk-estimator:hover .sk-estimator-doc-link:hover,\n",
       ".sk-estimator-doc-link:hover,\n",
       "div.sk-label-container:hover .sk-estimator-doc-link:hover,\n",
       ".sk-estimator-doc-link:hover {\n",
       "  /* unfitted */\n",
       "  background-color: var(--sklearn-color-unfitted-level-3);\n",
       "  color: var(--sklearn-color-background);\n",
       "  text-decoration: none;\n",
       "}\n",
       "\n",
       "div.sk-estimator.fitted:hover .sk-estimator-doc-link.fitted:hover,\n",
       ".sk-estimator-doc-link.fitted:hover,\n",
       "div.sk-label-container:hover .sk-estimator-doc-link.fitted:hover,\n",
       ".sk-estimator-doc-link.fitted:hover {\n",
       "  /* fitted */\n",
       "  background-color: var(--sklearn-color-fitted-level-3);\n",
       "  color: var(--sklearn-color-background);\n",
       "  text-decoration: none;\n",
       "}\n",
       "\n",
       "/* Span, style for the box shown on hovering the info icon */\n",
       ".sk-estimator-doc-link span {\n",
       "  display: none;\n",
       "  z-index: 9999;\n",
       "  position: relative;\n",
       "  font-weight: normal;\n",
       "  right: .2ex;\n",
       "  padding: .5ex;\n",
       "  margin: .5ex;\n",
       "  width: min-content;\n",
       "  min-width: 20ex;\n",
       "  max-width: 50ex;\n",
       "  color: var(--sklearn-color-text);\n",
       "  box-shadow: 2pt 2pt 4pt #999;\n",
       "  /* unfitted */\n",
       "  background: var(--sklearn-color-unfitted-level-0);\n",
       "  border: .5pt solid var(--sklearn-color-unfitted-level-3);\n",
       "}\n",
       "\n",
       ".sk-estimator-doc-link.fitted span {\n",
       "  /* fitted */\n",
       "  background: var(--sklearn-color-fitted-level-0);\n",
       "  border: var(--sklearn-color-fitted-level-3);\n",
       "}\n",
       "\n",
       ".sk-estimator-doc-link:hover span {\n",
       "  display: block;\n",
       "}\n",
       "\n",
       "/* \"?\"-specific style due to the `<a>` HTML tag */\n",
       "\n",
       "#sk-container-id-1 a.estimator_doc_link {\n",
       "  float: right;\n",
       "  font-size: 1rem;\n",
       "  line-height: 1em;\n",
       "  font-family: monospace;\n",
       "  background-color: var(--sklearn-color-background);\n",
       "  border-radius: 1rem;\n",
       "  height: 1rem;\n",
       "  width: 1rem;\n",
       "  text-decoration: none;\n",
       "  /* unfitted */\n",
       "  color: var(--sklearn-color-unfitted-level-1);\n",
       "  border: var(--sklearn-color-unfitted-level-1) 1pt solid;\n",
       "}\n",
       "\n",
       "#sk-container-id-1 a.estimator_doc_link.fitted {\n",
       "  /* fitted */\n",
       "  border: var(--sklearn-color-fitted-level-1) 1pt solid;\n",
       "  color: var(--sklearn-color-fitted-level-1);\n",
       "}\n",
       "\n",
       "/* On hover */\n",
       "#sk-container-id-1 a.estimator_doc_link:hover {\n",
       "  /* unfitted */\n",
       "  background-color: var(--sklearn-color-unfitted-level-3);\n",
       "  color: var(--sklearn-color-background);\n",
       "  text-decoration: none;\n",
       "}\n",
       "\n",
       "#sk-container-id-1 a.estimator_doc_link.fitted:hover {\n",
       "  /* fitted */\n",
       "  background-color: var(--sklearn-color-fitted-level-3);\n",
       "}\n",
       "</style><div id=\"sk-container-id-1\" class=\"sk-top-container\"><div class=\"sk-text-repr-fallback\"><pre>RandomForestRegressor(max_features=0.5, min_samples_leaf=5, n_estimators=500,\n",
       "                      n_jobs=10, oob_score=True, random_state=17)</pre><b>In a Jupyter environment, please rerun this cell to show the HTML representation or trust the notebook. <br />On GitHub, the HTML representation is unable to render, please try loading this page with nbviewer.org.</b></div><div class=\"sk-container\" hidden><div class=\"sk-item\"><div class=\"sk-estimator fitted sk-toggleable\"><input class=\"sk-toggleable__control sk-hidden--visually\" id=\"sk-estimator-id-1\" type=\"checkbox\" checked><label for=\"sk-estimator-id-1\" class=\"sk-toggleable__label fitted sk-toggleable__label-arrow fitted\">&nbsp;&nbsp;RandomForestRegressor<a class=\"sk-estimator-doc-link fitted\" rel=\"noreferrer\" target=\"_blank\" href=\"https://scikit-learn.org/1.5/modules/generated/sklearn.ensemble.RandomForestRegressor.html\">?<span>Documentation for RandomForestRegressor</span></a><span class=\"sk-estimator-doc-link fitted\">i<span>Fitted</span></span></label><div class=\"sk-toggleable__content fitted\"><pre>RandomForestRegressor(max_features=0.5, min_samples_leaf=5, n_estimators=500,\n",
       "                      n_jobs=10, oob_score=True, random_state=17)</pre></div> </div></div></div></div>"
      ],
      "text/plain": [
       "RandomForestRegressor(max_features=0.5, min_samples_leaf=5, n_estimators=500,\n",
       "                      n_jobs=10, oob_score=True, random_state=17)"
      ]
     },
     "execution_count": 18,
     "metadata": {},
     "output_type": "execute_result"
    }
   ],
   "source": [
    "rf"
   ]
  },
  {
   "cell_type": "code",
   "execution_count": 14,
   "id": "c14ad4c0-3d1e-44c6-a67f-40e296c266de",
   "metadata": {},
   "outputs": [],
   "source": [
    "# used to generate SHAP values for the events in the data\n",
    "explainer = fts.TreeExplainer(rf, n_jobs = NJOBS)"
   ]
  },
  {
   "cell_type": "code",
   "execution_count": null,
   "id": "3fdf9679-f199-46c9-b68b-a58e76f3af5b",
   "metadata": {},
   "outputs": [],
   "source": [
    "full_data = load_data(all_cols=True, option=\"test_d\", path='./') # loads Grace B test data"
   ]
  },
  {
   "cell_type": "markdown",
   "id": "d3ef3c11-241b-4e6f-8200-3dafdd5f04df",
   "metadata": {},
   "source": [
    "### Data Part 1: \n",
    "Samples for storm, quiet, recovery, mainphase as classified by Murphy+18,20.\n",
    "\n",
    "#### References\n",
    "----------\n",
    "1. Murphy+18, https://doi.org/10.1002/2017GL076674\n",
    "2. Murphy+20, https://doi.org/10.1029/2020SW002477"
   ]
  },
  {
   "cell_type": "code",
   "execution_count": 10,
   "id": "d286d87a-08dc-43e1-ace0-80c678f4d396",
   "metadata": {},
   "outputs": [],
   "source": [
    "# sort into more specific datasets\n",
    "storm_data = full_data[full_data['storm'] == 1]\n",
    "quiet_data = full_data[full_data['storm'] == -1]"
   ]
  },
  {
   "cell_type": "code",
   "execution_count": 14,
   "id": "f34f7807-6631-4b11-9bfa-ae49a846b112",
   "metadata": {},
   "outputs": [],
   "source": [
    "# NOTE: we reset the generator here in order to match exact indices \n",
    "# for sampling used in paper\n",
    "SEED = 693993\n",
    "gen = rand.default_rng(SEED)\n",
    "\n",
    "storm_samp_data = sample(gen, storm_data)\n",
    "quiet_samp_data = sample(gen, quiet_data)\n",
    "mainphase_samp_data = sample(gen, mainphase_data)\n",
    "recovery_samp_data = sample(gen, recovery_data)"
   ]
  },
  {
   "cell_type": "code",
   "execution_count": 11,
   "id": "7ad6cb66-3caa-4844-b664-87300841fd22",
   "metadata": {},
   "outputs": [],
   "source": [
    "recovery_data = storm_data[storm_data[\"storm phase\"] == 2]\n",
    "mainphase_data = storm_data[storm_data[\"storm phase\"] == 1]"
   ]
  },
  {
   "cell_type": "code",
   "execution_count": 21,
   "id": "82f6bbd8-f8ca-4cda-928d-a111e85ec71a",
   "metadata": {},
   "outputs": [],
   "source": [
    "mainphase_samp_data = sample(mainphase_data)\n",
    "recovery_samp_data = sample(recovery_data)"
   ]
  },
  {
   "cell_type": "markdown",
   "id": "6dd70924-457f-4a92-b218-49c249189f18",
   "metadata": {},
   "source": [
    "#### SHAP values\n",
    "\n",
    "WARNING: this will take a while on a laptop, depending on the NUM_SAMP. For 2000 pts on my laptop (NJOBS=8), it took about 25-30 mins, depending on multitasking.\n",
    "\n",
    "To run the SHAP value code, uncomment the cells below. Alternatively, the saved `.npz` files from the below commands are found in `./SHAP_values/`."
   ]
  },
  {
   "cell_type": "code",
   "execution_count": 12,
   "id": "53a988b8-1a65-4111-b12a-6fd44bb9b80c",
   "metadata": {},
   "outputs": [
    {
     "name": "stdout",
     "output_type": "stream",
     "text": [
      "start shap storm\n",
      "Time taken: 1739.8983653000032\n"
     ]
    }
   ],
   "source": [
    "\"\"\"\n",
    "print(\"start shap storm\")\n",
    "tfirst = pytime.perf_counter()\n",
    "storm_shap = explainer(storm_samp_data[fgeo_col])\n",
    "tnow = pytime.perf_counter()\n",
    "print(f\"Time taken: {tnow - tfirst}\")\n",
    "save_explanation(\"storm1\", storm_shap)\n",
    "\"\"\""
   ]
  },
  {
   "cell_type": "code",
   "execution_count": 19,
   "id": "cd4abbce-6dfb-42b7-9eda-f6d2c5df0ffe",
   "metadata": {},
   "outputs": [
    {
     "name": "stdout",
     "output_type": "stream",
     "text": [
      "start shap quiet\n",
      "Time taken: 1506.1464909000206\n"
     ]
    }
   ],
   "source": [
    "\"\"\"\n",
    "print(\"start shap quiet\")\n",
    "tfirst = pytime.perf_counter()\n",
    "quiet_shap = explainer(quiet_samp_data[fgeo_col])\n",
    "tnow = pytime.perf_counter()\n",
    "print(f\"Time taken: {tnow - tfirst}\")\n",
    "save_explanation(\"quiet1\", quiet_shap)\n",
    "\"\"\""
   ]
  },
  {
   "cell_type": "code",
   "execution_count": 154,
   "id": "65385f56-9fb1-4f26-bf81-9a56abff6bf6",
   "metadata": {},
   "outputs": [
    {
     "name": "stdout",
     "output_type": "stream",
     "text": [
      "start shap main\n",
      "Time taken: 1556.1542722999584\n"
     ]
    }
   ],
   "source": [
    "\"\"\"\n",
    "print(\"start shap main\")\n",
    "tfirst = pytime.perf_counter()\n",
    "mainphase_shap = explainer(mainphase_samp_data[fgeo_col])\n",
    "tnow = pytime.perf_counter()\n",
    "print(f\"Time taken: {tnow - tfirst}\")\n",
    "save_explanation(\"mainphase1\", mainphase_shap)\n",
    "\"\"\""
   ]
  },
  {
   "cell_type": "code",
   "execution_count": 155,
   "id": "9ecc7e64-e85d-433c-aad5-b923e7c5b576",
   "metadata": {},
   "outputs": [
    {
     "name": "stdout",
     "output_type": "stream",
     "text": [
      "start shap main\n",
      "Time taken: 1481.5337197000626\n"
     ]
    }
   ],
   "source": [
    "\"\"\"\n",
    "print(\"start shap recovery\")\n",
    "tfirst = pytime.perf_counter()\n",
    "recovery_shap = explainer(recovery_samp_data[fgeo_col])\n",
    "tnow = pytime.perf_counter()\n",
    "print(f\"Time taken: {tnow - tfirst}\")\n",
    "save_explanation(\"recovery1\", recovery_shap)\n",
    "\"\"\""
   ]
  },
  {
   "cell_type": "markdown",
   "id": "44388047-7c24-4b9d-88be-7a494f7f08d3",
   "metadata": {},
   "source": [
    "### Data Part 2: \n",
    "Samples for broad SYM-H binning. "
   ]
  },
  {
   "cell_type": "code",
   "execution_count": 13,
   "id": "73075439-ab2b-4f3f-aa19-791589785352",
   "metadata": {},
   "outputs": [],
   "source": [
    "small_symH = full_data[(full_data[\"SYM_H index\"] < 0) & (full_data[\"SYM_H index\"] > -50)]\n",
    "mod_symH = full_data[(full_data[\"SYM_H index\"] < -50) & (full_data[\"SYM_H index\"] > -100)]\n",
    "large_symH = full_data[full_data[\"SYM_H index\"] < -100]"
   ]
  },
  {
   "cell_type": "code",
   "execution_count": 11,
   "id": "30cfd5e3-14c8-45fc-9980-cf297bbde024",
   "metadata": {},
   "outputs": [
    {
     "data": {
      "text/plain": [
       "((198948, 14), (6051, 14), (1137, 14))"
      ]
     },
     "execution_count": 11,
     "metadata": {},
     "output_type": "execute_result"
    }
   ],
   "source": [
    "small_symH.shape, mod_symH.shape, large_symH.shape"
   ]
  },
  {
   "cell_type": "code",
   "execution_count": 18,
   "id": "80647b04-c37d-4617-9620-78125ceb140f",
   "metadata": {},
   "outputs": [],
   "source": [
    "# NOTE: we reset the generator here in order to match exact indices \n",
    "# for sampling used in paper\n",
    "SEED = 693993\n",
    "gen = rand.default_rng(SEED)\n",
    "\n",
    "small_symH_samp = sample(gen, small_symH)\n",
    "mod_symH_samp = sample(gen, mod_symH)\n",
    "large_symH_samp = sample(gen, large_symH)"
   ]
  },
  {
   "cell_type": "markdown",
   "id": "f16ad098-bfc3-4106-b971-bb944c5f76d3",
   "metadata": {},
   "source": [
    "#### SHAP values\n",
    "\n",
    "SHAP `.npz` files are provided in `./SHAP_values/`."
   ]
  },
  {
   "cell_type": "code",
   "execution_count": 56,
   "id": "12c816f1-5995-417d-9bd9-55038eadb863",
   "metadata": {},
   "outputs": [
    {
     "name": "stdout",
     "output_type": "stream",
     "text": [
      "start sym-h smol\n",
      "Time taken: 1551.2525466999505\n"
     ]
    }
   ],
   "source": [
    "\"\"\"\n",
    "print(\"start sym-h smol\")\n",
    "tfirst = pytime.perf_counter()\n",
    "small_symH_shap = explainer(small_symH_samp[fgeo_col])\n",
    "tnow = pytime.perf_counter()\n",
    "print(f\"Time taken: {tnow - tfirst}\")\n",
    "save_explanation(\"symHsml\", small_symH_shap)\n",
    "\"\"\""
   ]
  },
  {
   "cell_type": "code",
   "execution_count": 57,
   "id": "582b8ec2-5f0f-4ed7-b33a-72998b7a0c8a",
   "metadata": {},
   "outputs": [
    {
     "name": "stdout",
     "output_type": "stream",
     "text": [
      "start sym-h moderate\n",
      "Time taken: 1492.3360663999338\n"
     ]
    }
   ],
   "source": [
    "\"\"\"\n",
    "print(\"start sym-h moderate\")\n",
    "tfirst = pytime.perf_counter()\n",
    "mod_symH_shap = explainer(mod_symH_samp[fgeo_col])\n",
    "tnow = pytime.perf_counter()\n",
    "print(f\"Time taken: {tnow - tfirst}\")\n",
    "save_explanation(\"symHmod\", mod_symH_shap)\n",
    "\"\"\""
   ]
  },
  {
   "cell_type": "code",
   "execution_count": 58,
   "id": "63cde066-1365-4626-a356-c963309c7f36",
   "metadata": {},
   "outputs": [
    {
     "name": "stdout",
     "output_type": "stream",
     "text": [
      "start sym-h large\n",
      "Time taken: 844.8028948999709\n"
     ]
    }
   ],
   "source": [
    "\"\"\"\n",
    "print(\"start sym-h large\")\n",
    "tfirst = pytime.perf_counter()\n",
    "large_symH_shap = explainer(large_symH_samp[fgeo_col])\n",
    "tnow = pytime.perf_counter()\n",
    "print(f\"Time taken: {tnow - tfirst}\")\n",
    "save_explanation(\"symHlarge\", large_symH_shap)\n",
    "\"\"\""
   ]
  },
  {
   "cell_type": "markdown",
   "id": "b58067b3-1d2a-4185-bb6b-c3529e17923f",
   "metadata": {},
   "source": [
    "### Data part 3:\n",
    "Samples for 5-nT bins of SYM-H, from -20 to -75 nT."
   ]
  },
  {
   "cell_type": "code",
   "execution_count": 9,
   "id": "2919e7b3-d70e-4091-a80c-5efdc5a0c1f3",
   "metadata": {},
   "outputs": [],
   "source": [
    "# function to get specifc bins\n",
    "def SymH_bin(df, low=0., high = -100.):\n",
    "    # (low, high) are l/r of bins in storm time\n",
    "    assert low > high, \"Sym-h is defined in negative direction; high is 'more negative' than low\"\n",
    "    return df[(df[\"SYM_H index\"] <= low) & (df[\"SYM_H index\"] > high)]"
   ]
  },
  {
   "cell_type": "code",
   "execution_count": 11,
   "id": "6b945ee7-4a06-4896-a0b1-e5c37b8fe94c",
   "metadata": {},
   "outputs": [],
   "source": [
    "sym_h_bins = list(range(-20,-76,-5))\n",
    "sym_h_binned_samps = []"
   ]
  },
  {
   "cell_type": "code",
   "execution_count": 12,
   "id": "886bbe79-1a81-483a-af98-048f6b1f287a",
   "metadata": {},
   "outputs": [
    {
     "data": {
      "text/plain": [
       "[-20, -25, -30, -35, -40, -45, -50, -55, -60, -65, -70, -75]"
      ]
     },
     "execution_count": 12,
     "metadata": {},
     "output_type": "execute_result"
    }
   ],
   "source": [
    "sym_h_bins"
   ]
  },
  {
   "cell_type": "code",
   "execution_count": 13,
   "id": "4d7ec857-40ad-4c7e-ac3f-f94c8fbf8de2",
   "metadata": {},
   "outputs": [
    {
     "name": "stdout",
     "output_type": "stream",
     "text": [
      "binning in [-20, -25)\n",
      "binning in [-25, -30)\n",
      "binning in [-30, -35)\n",
      "binning in [-35, -40)\n",
      "binning in [-40, -45)\n",
      "binning in [-45, -50)\n",
      "binning in [-50, -55)\n",
      "binning in [-55, -60)\n",
      "binning in [-60, -65)\n",
      "binning in [-65, -70)\n",
      "binning in [-70, -75)\n"
     ]
    }
   ],
   "source": [
    "# Need to reset RNG here\n",
    "SEED = 693993\n",
    "gen = rand.default_rng(SEED)\n",
    "for i in range(len(sym_h_bins)-1):\n",
    "    print(f\"binning in [{sym_h_bins[i]}, {sym_h_bins[i+1]})\")\n",
    "    sym_h_binned_samps.append(sample(gen, SymH_bin(full_data, sym_h_bins[i], sym_h_bins[i+1]), num_samp=500))"
   ]
  },
  {
   "cell_type": "markdown",
   "id": "2e709dbf-e780-4384-83e2-1562f8d50a13",
   "metadata": {},
   "source": [
    "#### SHAP values\n",
    "`.npz` files are found in `./SHAP_values/`, under names `sym_h_bin-##.npz`: <>"
   ]
  },
  {
   "cell_type": "code",
   "execution_count": 16,
   "id": "92bfbb48-212f-4921-8cd1-b086af4be5cd",
   "metadata": {},
   "outputs": [
    {
     "name": "stdout",
     "output_type": "stream",
     "text": [
      "start bin 0\n",
      "Time taken: 378.9885622999991\n",
      "start bin 1\n",
      "Time taken: 367.1852671000015\n",
      "start bin 2\n",
      "Time taken: 351.637211199999\n",
      "start bin 3\n",
      "Time taken: 340.28905210000084\n",
      "start bin 4\n",
      "Time taken: 342.40822300000036\n",
      "start bin 5\n",
      "Time taken: 339.72353420000036\n",
      "start bin 6\n",
      "Time taken: 336.50638190000063\n",
      "start bin 7\n",
      "Time taken: 338.3492058000011\n",
      "start bin 8\n",
      "Time taken: 345.77513050000016\n",
      "start bin 9\n",
      "Time taken: 348.92111379999915\n",
      "start bin 10\n",
      "Time taken: 337.58933689999867\n"
     ]
    }
   ],
   "source": [
    "\"\"\"\n",
    "bn_shap = []\n",
    "for i,bn_samp in enumerate(sym_h_binned_samps):\n",
    "    print(f\"start bin {i}\")\n",
    "    tfirst = pytime.perf_counter()\n",
    "    bn_shap.append(explainer(bn_samp[fgeo_col]))\n",
    "    tnow = pytime.perf_counter()\n",
    "    print(f\"Time taken: {tnow - tfirst}\")\n",
    "    save_explanation(f\"sym_h_bin{sym_h_bins[i]}\", bn_shap[-1])\n",
    "\"\"\""
   ]
  },
  {
   "cell_type": "markdown",
   "id": "d8d1a96f-1a97-4b96-98bd-3dcac1a3f686",
   "metadata": {},
   "source": [
    "##### end\n",
    "\n",
    "The next notebook, Part B, will feature simple analysis of the global input features."
   ]
  },
  {
   "cell_type": "code",
   "execution_count": null,
   "id": "a429a4de-6ee5-4f59-8fd9-959e5a10e1db",
   "metadata": {},
   "outputs": [],
   "source": []
  }
 ],
 "metadata": {
  "kernelspec": {
   "display_name": "Python 3 (ipykernel)",
   "language": "python",
   "name": "python3"
  },
  "language_info": {
   "codemirror_mode": {
    "name": "ipython",
    "version": 3
   },
   "file_extension": ".py",
   "mimetype": "text/x-python",
   "name": "python",
   "nbconvert_exporter": "python",
   "pygments_lexer": "ipython3",
   "version": "3.10.12"
  }
 },
 "nbformat": 4,
 "nbformat_minor": 5
}
